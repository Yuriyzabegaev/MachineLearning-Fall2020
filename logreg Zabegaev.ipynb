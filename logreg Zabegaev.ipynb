{
 "cells": [
  {
   "cell_type": "code",
   "execution_count": 1,
   "metadata": {},
   "outputs": [
    {
     "name": "stdout",
     "output_type": "stream",
     "text": [
      "Populating the interactive namespace from numpy and matplotlib\n"
     ]
    }
   ],
   "source": [
    "from sklearn.datasets import fetch_20newsgroups\n",
    "from sklearn.linear_model import LogisticRegression\n",
    "import pandas as pd\n",
    "import numpy as np\n",
    "\n",
    "%pylab inline\n",
    "newsgroups_train = fetch_20newsgroups(subset='train')\n",
    "newsgroups_test = fetch_20newsgroups(subset='test')"
   ]
  },
  {
   "cell_type": "code",
   "execution_count": 2,
   "metadata": {},
   "outputs": [
    {
     "data": {
      "text/plain": [
       "dict_keys(['data', 'filenames', 'target_names', 'target', 'DESCR'])"
      ]
     },
     "execution_count": 2,
     "metadata": {},
     "output_type": "execute_result"
    }
   ],
   "source": [
    "newsgroups_train.keys()"
   ]
  },
  {
   "cell_type": "code",
   "execution_count": 3,
   "metadata": {},
   "outputs": [
    {
     "data": {
      "text/plain": [
       "['alt.atheism',\n",
       " 'comp.graphics',\n",
       " 'comp.os.ms-windows.misc',\n",
       " 'comp.sys.ibm.pc.hardware',\n",
       " 'comp.sys.mac.hardware',\n",
       " 'comp.windows.x',\n",
       " 'misc.forsale',\n",
       " 'rec.autos',\n",
       " 'rec.motorcycles',\n",
       " 'rec.sport.baseball',\n",
       " 'rec.sport.hockey',\n",
       " 'sci.crypt',\n",
       " 'sci.electronics',\n",
       " 'sci.med',\n",
       " 'sci.space',\n",
       " 'soc.religion.christian',\n",
       " 'talk.politics.guns',\n",
       " 'talk.politics.mideast',\n",
       " 'talk.politics.misc',\n",
       " 'talk.religion.misc']"
      ]
     },
     "execution_count": 3,
     "metadata": {},
     "output_type": "execute_result"
    }
   ],
   "source": [
    "(newsgroups_train['target_names'])"
   ]
  },
  {
   "cell_type": "code",
   "execution_count": 4,
   "metadata": {},
   "outputs": [
    {
     "data": {
      "text/plain": [
       "11314"
      ]
     },
     "execution_count": 4,
     "metadata": {},
     "output_type": "execute_result"
    }
   ],
   "source": [
    "len(newsgroups_train['target'])"
   ]
  },
  {
   "cell_type": "code",
   "execution_count": 5,
   "metadata": {},
   "outputs": [
    {
     "data": {
      "text/plain": [
       "CountVectorizer(max_features=100)"
      ]
     },
     "execution_count": 5,
     "metadata": {},
     "output_type": "execute_result"
    }
   ],
   "source": [
    "from sklearn.feature_extraction.text import CountVectorizer\n",
    "\n",
    "cv = CountVectorizer(max_features=100)\n",
    "cv.fit(newsgroups_train['data'])"
   ]
  },
  {
   "cell_type": "code",
   "execution_count": 6,
   "metadata": {},
   "outputs": [],
   "source": [
    "X_train = cv.transform(newsgroups_train['data'])\n",
    "X_test = cv.transform(newsgroups_test['data'])\n",
    "\n",
    "y_train = newsgroups_train['target']\n",
    "y_test = newsgroups_test['target']"
   ]
  },
  {
   "cell_type": "code",
   "execution_count": 7,
   "metadata": {},
   "outputs": [
    {
     "data": {
      "text/plain": [
       "['about',\n",
       " 'all',\n",
       " 'also',\n",
       " 'am',\n",
       " 'an',\n",
       " 'and',\n",
       " 'any',\n",
       " 'are',\n",
       " 'article',\n",
       " 'as',\n",
       " 'at',\n",
       " 'ax',\n",
       " 'be',\n",
       " 'because',\n",
       " 'been',\n",
       " 'but',\n",
       " 'by',\n",
       " 'ca',\n",
       " 'can',\n",
       " 'com',\n",
       " 'could',\n",
       " 'do',\n",
       " 'does',\n",
       " 'don',\n",
       " 'edu',\n",
       " 'even',\n",
       " 'for',\n",
       " 'from',\n",
       " 'get',\n",
       " 'good',\n",
       " 'had',\n",
       " 'has',\n",
       " 'have',\n",
       " 'he',\n",
       " 'his',\n",
       " 'host',\n",
       " 'how',\n",
       " 'if',\n",
       " 'in',\n",
       " 'is',\n",
       " 'it',\n",
       " 'just',\n",
       " 'know',\n",
       " 'like',\n",
       " 'lines',\n",
       " 'max',\n",
       " 'may',\n",
       " 'me',\n",
       " 'more',\n",
       " 'my',\n",
       " 'new',\n",
       " 'nntp',\n",
       " 'no',\n",
       " 'not',\n",
       " 'of',\n",
       " 'on',\n",
       " 'one',\n",
       " 'only',\n",
       " 'or',\n",
       " 'organization',\n",
       " 'other',\n",
       " 'out',\n",
       " 'people',\n",
       " 'posting',\n",
       " 're',\n",
       " 'should',\n",
       " 'so',\n",
       " 'some',\n",
       " 'subject',\n",
       " 'than',\n",
       " 'that',\n",
       " 'the',\n",
       " 'their',\n",
       " 'them',\n",
       " 'then',\n",
       " 'there',\n",
       " 'these',\n",
       " 'they',\n",
       " 'think',\n",
       " 'this',\n",
       " 'time',\n",
       " 'to',\n",
       " 'university',\n",
       " 'up',\n",
       " 'us',\n",
       " 'use',\n",
       " 'was',\n",
       " 'we',\n",
       " 'well',\n",
       " 'were',\n",
       " 'what',\n",
       " 'when',\n",
       " 'which',\n",
       " 'who',\n",
       " 'will',\n",
       " 'with',\n",
       " 'would',\n",
       " 'writes',\n",
       " 'you',\n",
       " 'your']"
      ]
     },
     "execution_count": 7,
     "metadata": {},
     "output_type": "execute_result"
    }
   ],
   "source": [
    "cv.get_feature_names()"
   ]
  },
  {
   "cell_type": "code",
   "execution_count": 8,
   "metadata": {},
   "outputs": [
    {
     "data": {
      "text/plain": [
       "{0, 1, 2, 3, 4, 5, 6, 7, 8, 9, 10, 11, 12, 13, 14, 15, 16, 17, 18, 19}"
      ]
     },
     "execution_count": 8,
     "metadata": {},
     "output_type": "execute_result"
    }
   ],
   "source": [
    "set(y_train)"
   ]
  },
  {
   "cell_type": "code",
   "execution_count": 9,
   "metadata": {},
   "outputs": [],
   "source": [
    "train_mask = (y_train <= 1)\n",
    "test_mask = (y_test <= 1)\n",
    "\n",
    "X_train = X_train[train_mask]\n",
    "X_test = X_test[test_mask]\n",
    "\n",
    "y_train = y_train[train_mask]\n",
    "y_test = y_test[test_mask]"
   ]
  },
  {
   "cell_type": "code",
   "execution_count": 10,
   "metadata": {},
   "outputs": [
    {
     "data": {
      "text/plain": [
       "389"
      ]
     },
     "execution_count": 10,
     "metadata": {},
     "output_type": "execute_result"
    }
   ],
   "source": [
    "np.sum(y_test)"
   ]
  },
  {
   "cell_type": "code",
   "execution_count": 11,
   "metadata": {},
   "outputs": [
    {
     "data": {
      "text/plain": [
       "<708x100 sparse matrix of type '<class 'numpy.int64'>'\n",
       "\twith 28551 stored elements in Compressed Sparse Row format>"
      ]
     },
     "execution_count": 11,
     "metadata": {},
     "output_type": "execute_result"
    }
   ],
   "source": [
    "X_test"
   ]
  },
  {
   "cell_type": "code",
   "execution_count": 12,
   "metadata": {},
   "outputs": [
    {
     "name": "stdout",
     "output_type": "stream",
     "text": [
      "[[2 0 0 ... 1 1 0]\n",
      " [0 1 0 ... 1 2 0]\n",
      " [1 5 0 ... 1 2 1]\n",
      " ...\n",
      " [0 2 1 ... 0 1 0]\n",
      " [0 0 1 ... 0 0 0]\n",
      " [0 0 0 ... 1 1 0]]\n"
     ]
    }
   ],
   "source": [
    "print(X_train.todense())"
   ]
  },
  {
   "cell_type": "code",
   "execution_count": 13,
   "metadata": {},
   "outputs": [
    {
     "name": "stdout",
     "output_type": "stream",
     "text": [
      "CPU times: user 104 ms, sys: 9.25 ms, total: 113 ms\n",
      "Wall time: 133 ms\n"
     ]
    },
    {
     "name": "stderr",
     "output_type": "stream",
     "text": [
      "/Applications/anaconda3/lib/python3.8/site-packages/sklearn/linear_model/_logistic.py:762: ConvergenceWarning: lbfgs failed to converge (status=1):\n",
      "STOP: TOTAL NO. of ITERATIONS REACHED LIMIT.\n",
      "\n",
      "Increase the number of iterations (max_iter) or scale the data as shown in:\n",
      "    https://scikit-learn.org/stable/modules/preprocessing.html\n",
      "Please also refer to the documentation for alternative solver options:\n",
      "    https://scikit-learn.org/stable/modules/linear_model.html#logistic-regression\n",
      "  n_iter_i = _check_optimize_result(\n"
     ]
    }
   ],
   "source": [
    "%%time\n",
    "clf = LogisticRegression(random_state=134).fit(X_train, y_train)"
   ]
  },
  {
   "cell_type": "code",
   "execution_count": 14,
   "metadata": {
    "scrolled": true
   },
   "outputs": [
    {
     "data": {
      "text/plain": [
       "array([[ 0.21496666, -0.11383959,  0.73115435,  0.48705912, -0.42260227,\n",
       "         0.09451934,  0.5982347 ,  0.00847469,  0.15965347, -0.34476009,\n",
       "         0.45314946,  0.54478156, -0.12166407, -0.23599167, -0.20772448,\n",
       "         0.30985893, -0.37451345,  1.42639722,  0.11658058, -0.11692129,\n",
       "         0.11771676, -0.14346196,  0.28399602, -0.11335993, -0.4172264 ,\n",
       "        -0.32348672,  0.4273733 ,  0.12883359,  0.84223097,  0.13201123,\n",
       "        -0.00511505,  0.23562993, -0.01588501, -0.78760286, -1.11139627,\n",
       "         0.0969655 ,  0.11426635, -0.07952562,  0.06413048, -0.08910777,\n",
       "        -0.05073938,  0.47138806,  0.02094008,  0.4366281 , -0.70061169,\n",
       "         0.09806981,  0.26838765,  0.33765546, -0.14252641, -0.26548449,\n",
       "         0.05260584,  0.03484158, -0.32232579, -0.03944962, -0.22840332,\n",
       "         0.12764826, -0.44253586,  0.65817079, -0.25507539,  0.73322119,\n",
       "        -0.12170194,  0.53595511, -1.61623043,  0.2752876 , -1.32360602,\n",
       "         0.08397717, -0.04199174, -0.03222575,  0.75629078, -0.07008864,\n",
       "        -0.2424118 ,  0.09240812, -1.0566193 ,  0.27857911,  0.72614148,\n",
       "        -0.01104072, -0.60872925, -0.12437743, -0.09127697,  0.0736439 ,\n",
       "         0.22158669,  0.16590987,  0.97253248, -0.34262004, -0.25833244,\n",
       "         0.96139454, -0.03966928, -0.37921334, -0.48525094, -0.53217253,\n",
       "        -0.29435648,  0.36527594, -0.29106065, -0.9777925 ,  0.39380384,\n",
       "         0.38687258,  0.4813297 , -0.81103039, -0.21378743, -0.59440343]])"
      ]
     },
     "execution_count": 14,
     "metadata": {},
     "output_type": "execute_result"
    }
   ],
   "source": [
    "clf.coef_"
   ]
  },
  {
   "cell_type": "code",
   "execution_count": 15,
   "metadata": {
    "scrolled": true
   },
   "outputs": [
    {
     "data": {
      "text/plain": [
       "[('about', 0),\n",
       " ('all', 1),\n",
       " ('also', 2),\n",
       " ('am', 3),\n",
       " ('an', 4),\n",
       " ('and', 5),\n",
       " ('any', 6),\n",
       " ('are', 7),\n",
       " ('article', 8),\n",
       " ('as', 9),\n",
       " ('at', 10),\n",
       " ('ax', 11),\n",
       " ('be', 12),\n",
       " ('because', 13),\n",
       " ('been', 14),\n",
       " ('but', 15),\n",
       " ('by', 16),\n",
       " ('ca', 17),\n",
       " ('can', 18),\n",
       " ('com', 19),\n",
       " ('could', 20),\n",
       " ('do', 21),\n",
       " ('does', 22),\n",
       " ('don', 23),\n",
       " ('edu', 24),\n",
       " ('even', 25),\n",
       " ('for', 26),\n",
       " ('from', 27),\n",
       " ('get', 28),\n",
       " ('good', 29),\n",
       " ('had', 30),\n",
       " ('has', 31),\n",
       " ('have', 32),\n",
       " ('he', 33),\n",
       " ('his', 34),\n",
       " ('host', 35),\n",
       " ('how', 36),\n",
       " ('if', 37),\n",
       " ('in', 38),\n",
       " ('is', 39),\n",
       " ('it', 40),\n",
       " ('just', 41),\n",
       " ('know', 42),\n",
       " ('like', 43),\n",
       " ('lines', 44),\n",
       " ('max', 45),\n",
       " ('may', 46),\n",
       " ('me', 47),\n",
       " ('more', 48),\n",
       " ('my', 49),\n",
       " ('new', 50),\n",
       " ('nntp', 51),\n",
       " ('no', 52),\n",
       " ('not', 53),\n",
       " ('of', 54),\n",
       " ('on', 55),\n",
       " ('one', 56),\n",
       " ('only', 57),\n",
       " ('or', 58),\n",
       " ('organization', 59),\n",
       " ('other', 60),\n",
       " ('out', 61),\n",
       " ('people', 62),\n",
       " ('posting', 63),\n",
       " ('re', 64),\n",
       " ('should', 65),\n",
       " ('so', 66),\n",
       " ('some', 67),\n",
       " ('subject', 68),\n",
       " ('than', 69),\n",
       " ('that', 70),\n",
       " ('the', 71),\n",
       " ('their', 72),\n",
       " ('them', 73),\n",
       " ('then', 74),\n",
       " ('there', 75),\n",
       " ('these', 76),\n",
       " ('they', 77),\n",
       " ('think', 78),\n",
       " ('this', 79),\n",
       " ('time', 80),\n",
       " ('to', 81),\n",
       " ('university', 82),\n",
       " ('up', 83),\n",
       " ('us', 84),\n",
       " ('use', 85),\n",
       " ('was', 86),\n",
       " ('we', 87),\n",
       " ('well', 88),\n",
       " ('were', 89),\n",
       " ('what', 90),\n",
       " ('when', 91),\n",
       " ('which', 92),\n",
       " ('who', 93),\n",
       " ('will', 94),\n",
       " ('with', 95),\n",
       " ('would', 96),\n",
       " ('writes', 97),\n",
       " ('you', 98),\n",
       " ('your', 99)]"
      ]
     },
     "execution_count": 15,
     "metadata": {},
     "output_type": "execute_result"
    }
   ],
   "source": [
    "[(k,v) for k, v in sorted(cv.vocabulary_.items(), key=lambda item: item[1])]"
   ]
  },
  {
   "cell_type": "code",
   "execution_count": 16,
   "metadata": {},
   "outputs": [],
   "source": [
    "names = [k for k, v in sorted(cv.vocabulary_.items(), key=lambda item: item[1])]\n",
    "coef = clf.coef_.ravel()"
   ]
  },
  {
   "cell_type": "code",
   "execution_count": 17,
   "metadata": {},
   "outputs": [
    {
     "data": {
      "text/html": [
       "<div>\n",
       "<style scoped>\n",
       "    .dataframe tbody tr th:only-of-type {\n",
       "        vertical-align: middle;\n",
       "    }\n",
       "\n",
       "    .dataframe tbody tr th {\n",
       "        vertical-align: top;\n",
       "    }\n",
       "\n",
       "    .dataframe thead th {\n",
       "        text-align: right;\n",
       "    }\n",
       "</style>\n",
       "<table border=\"1\" class=\"dataframe\">\n",
       "  <thead>\n",
       "    <tr style=\"text-align: right;\">\n",
       "      <th></th>\n",
       "      <th>coef</th>\n",
       "      <th>names</th>\n",
       "    </tr>\n",
       "  </thead>\n",
       "  <tbody>\n",
       "    <tr>\n",
       "      <th>6</th>\n",
       "      <td>0.5982347044970174</td>\n",
       "      <td>any</td>\n",
       "    </tr>\n",
       "    <tr>\n",
       "      <th>57</th>\n",
       "      <td>0.658170793770505</td>\n",
       "      <td>only</td>\n",
       "    </tr>\n",
       "    <tr>\n",
       "      <th>74</th>\n",
       "      <td>0.7261414761965028</td>\n",
       "      <td>then</td>\n",
       "    </tr>\n",
       "    <tr>\n",
       "      <th>2</th>\n",
       "      <td>0.7311543460611576</td>\n",
       "      <td>also</td>\n",
       "    </tr>\n",
       "    <tr>\n",
       "      <th>59</th>\n",
       "      <td>0.7332211925736779</td>\n",
       "      <td>organization</td>\n",
       "    </tr>\n",
       "    <tr>\n",
       "      <th>68</th>\n",
       "      <td>0.7562907830806099</td>\n",
       "      <td>subject</td>\n",
       "    </tr>\n",
       "    <tr>\n",
       "      <th>28</th>\n",
       "      <td>0.8422309658652634</td>\n",
       "      <td>get</td>\n",
       "    </tr>\n",
       "    <tr>\n",
       "      <th>85</th>\n",
       "      <td>0.9613945423500923</td>\n",
       "      <td>use</td>\n",
       "    </tr>\n",
       "    <tr>\n",
       "      <th>82</th>\n",
       "      <td>0.9725324819517049</td>\n",
       "      <td>university</td>\n",
       "    </tr>\n",
       "    <tr>\n",
       "      <th>17</th>\n",
       "      <td>1.4263972161810392</td>\n",
       "      <td>ca</td>\n",
       "    </tr>\n",
       "  </tbody>\n",
       "</table>\n",
       "</div>"
      ],
      "text/plain": [
       "                  coef         names\n",
       "6   0.5982347044970174           any\n",
       "57   0.658170793770505          only\n",
       "74  0.7261414761965028          then\n",
       "2   0.7311543460611576          also\n",
       "59  0.7332211925736779  organization\n",
       "68  0.7562907830806099       subject\n",
       "28  0.8422309658652634           get\n",
       "85  0.9613945423500923           use\n",
       "82  0.9725324819517049    university\n",
       "17  1.4263972161810392            ca"
      ]
     },
     "execution_count": 17,
     "metadata": {},
     "output_type": "execute_result"
    }
   ],
   "source": [
    "df = pd.DataFrame(np.array([coef, names]).T, columns=['coef', 'names'])\n",
    "df.sort_values('coef')[-10:]"
   ]
  },
  {
   "cell_type": "code",
   "execution_count": 18,
   "metadata": {},
   "outputs": [
    {
     "name": "stdout",
     "output_type": "stream",
     "text": [
      "Requirement already satisfied: eli5 in /usr/local/lib/python3.7/site-packages (0.10.1)\n",
      "Requirement already satisfied: attrs>16.0.0 in /usr/local/lib/python3.7/site-packages (from eli5) (19.3.0)\n",
      "Requirement already satisfied: scipy in /usr/local/lib/python3.7/site-packages (from eli5) (1.5.2)\n",
      "Requirement already satisfied: scikit-learn>=0.18 in /usr/local/lib/python3.7/site-packages (from eli5) (0.23.2)\n",
      "Requirement already satisfied: graphviz in /usr/local/lib/python3.7/site-packages (from eli5) (0.14.1)\n",
      "Requirement already satisfied: jinja2 in /usr/local/lib/python3.7/site-packages (from eli5) (2.11.2)\n",
      "Requirement already satisfied: tabulate>=0.7.7 in /usr/local/lib/python3.7/site-packages (from eli5) (0.8.7)\n",
      "Requirement already satisfied: six in /usr/local/Cellar/protobuf/3.7.0/libexec/lib/python3.7/site-packages (from eli5) (1.12.0)\n",
      "Requirement already satisfied: numpy>=1.9.0 in /usr/local/lib/python3.7/site-packages (from eli5) (1.16.2)\n",
      "Requirement already satisfied: joblib>=0.11 in /usr/local/lib/python3.7/site-packages (from scikit-learn>=0.18->eli5) (0.16.0)\n",
      "Requirement already satisfied: threadpoolctl>=2.0.0 in /usr/local/lib/python3.7/site-packages (from scikit-learn>=0.18->eli5) (2.1.0)\n",
      "Requirement already satisfied: MarkupSafe>=0.23 in /usr/local/lib/python3.7/site-packages (from jinja2->eli5) (1.1.1)\n"
     ]
    }
   ],
   "source": [
    "! pip3 install eli5"
   ]
  },
  {
   "cell_type": "code",
   "execution_count": 19,
   "metadata": {},
   "outputs": [
    {
     "ename": "ModuleNotFoundError",
     "evalue": "No module named 'eli5'",
     "output_type": "error",
     "traceback": [
      "\u001b[0;31m---------------------------------------------------------------------------\u001b[0m",
      "\u001b[0;31mModuleNotFoundError\u001b[0m                       Traceback (most recent call last)",
      "\u001b[0;32m<ipython-input-19-b5e1cae94a13>\u001b[0m in \u001b[0;36m<module>\u001b[0;34m\u001b[0m\n\u001b[0;32m----> 1\u001b[0;31m \u001b[0;32mimport\u001b[0m \u001b[0meli5\u001b[0m\u001b[0;34m\u001b[0m\u001b[0;34m\u001b[0m\u001b[0m\n\u001b[0m\u001b[1;32m      2\u001b[0m \u001b[0meli5\u001b[0m\u001b[0;34m.\u001b[0m\u001b[0mexplain_weights\u001b[0m\u001b[0;34m(\u001b[0m\u001b[0mclf\u001b[0m\u001b[0;34m,\u001b[0m \u001b[0mfeature_names\u001b[0m\u001b[0;34m=\u001b[0m\u001b[0mnames\u001b[0m\u001b[0;34m)\u001b[0m\u001b[0;34m\u001b[0m\u001b[0;34m\u001b[0m\u001b[0m\n",
      "\u001b[0;31mModuleNotFoundError\u001b[0m: No module named 'eli5'"
     ]
    }
   ],
   "source": [
    "import eli5\n",
    "eli5.explain_weights(clf, feature_names=names)"
   ]
  },
  {
   "cell_type": "markdown",
   "metadata": {},
   "source": [
    "# Transform y: 0 to -1"
   ]
  },
  {
   "cell_type": "code",
   "execution_count": 20,
   "metadata": {},
   "outputs": [],
   "source": [
    "y_train[y_train == 0] = -1\n",
    "y_test[y_test == 0] = -1"
   ]
  },
  {
   "cell_type": "code",
   "execution_count": 46,
   "metadata": {},
   "outputs": [],
   "source": [
    "def sigma(w, x):\n",
    "    return 1 / (1 + np.exp(-x.dot(w)))\n",
    "\n",
    "def L(w, X, y):\n",
    "    N = w.shape[0]\n",
    "#     import pdb; pdb.set_trace()\n",
    "    return 1 / N * np.sum(np.log(1 + np.exp(-y * X.dot(w))))\n",
    "\n",
    "def dL(w, X, y):\n",
    "    N = y.shape[0]\n",
    "#     import pdb; pdb.set_trace()\n",
    "#     return np.array(-1 / N * np.sum(X.T.multiply(y).multiply(1 / (1 + np.exp(-y * X.dot(w)))).multiply(np.exp(-y * X.dot(w))), \n",
    "#                           axis=1)).ravel()\n",
    "    return X.T.multiply(y)\n",
    "\n",
    "# def L(w, X, y):\n",
    "#     N = w.shape[0]\n",
    "# #     import pdb; pdb.set_trace()\n",
    "#     return 1 / N * np.sum((y - X.dot(w)) ** 2)\n",
    "\n",
    "# def dL(w, X, y):\n",
    "#     N = w.shape[0]\n",
    "# #     import pdb; pdb.set_trace()\n",
    "# #     return np.array(-1 / N * np.sum(X.T.multiply(y).multiply(1 / (1 + np.exp(-y * X.dot(w)))).multiply(np.exp(-y * X.dot(w))), \n",
    "# #                           axis=1)).ravel()\n",
    "#     return np.array(-1 / N * np.sum(X.T.multiply(2 * (y - X.dot(w))), axis=1)).ravel()"
   ]
  },
  {
   "cell_type": "code",
   "execution_count": 47,
   "metadata": {},
   "outputs": [
    {
     "data": {
      "text/plain": [
       "array([[ 0,  0, -1,  1],\n",
       "       [ 0,  1,  0,  1]])"
      ]
     },
     "execution_count": 47,
     "metadata": {},
     "output_type": "execute_result"
    }
   ],
   "source": [
    "import scipy\n",
    "\n",
    "dL(w=np.array([0, 0]),\n",
    "   X=scipy.sparse.csr_matrix(np.array([[0, 0], [0, 1], [1, 0], [1, 1]])),\n",
    "   y=np.array([1, 1, -1, 1])).toarray()"
   ]
  },
  {
   "cell_type": "code",
   "execution_count": 60,
   "metadata": {},
   "outputs": [],
   "source": [
    "def dl(w, X, y):\n",
    "    m = y.size\n",
    "    A = X.toarray()\n",
    "#     return (-1 / m\n",
    "#             * np.sum(np.exp(-y * A.dot(w)) / (1 + np.exp(-y * A.dot(w))))\n",
    "#             * A.T.dot(y)\n",
    "#             + .5 * w)\n",
    "    return A.T.dot(1) * y"
   ]
  },
  {
   "cell_type": "code",
   "execution_count": 61,
   "metadata": {},
   "outputs": [
    {
     "data": {
      "text/plain": [
       "array([[ 0,  0, -1,  1],\n",
       "       [ 0,  1,  0,  1]])"
      ]
     },
     "execution_count": 61,
     "metadata": {},
     "output_type": "execute_result"
    }
   ],
   "source": [
    "dl(w=np.array([0, 0]),\n",
    "   X=scipy.sparse.csr_matrix(np.array([[0, 0], [0, 1], [1, 0], [1, 1]])),\n",
    "   y=np.array([1, 1, -1, 1]))"
   ]
  },
  {
   "cell_type": "markdown",
   "metadata": {},
   "source": [
    "# Test gradient implementation"
   ]
  },
  {
   "cell_type": "code",
   "execution_count": null,
   "metadata": {},
   "outputs": [],
   "source": [
    "def test_dL(w, X, y, mul):\n",
    "    dw = np.zeros(100)\n",
    "    L_val = L(w, X, y)\n",
    "    dL_val = np.zeros(100)\n",
    "#     import pdb; pdb.set_trace()\n",
    "    for i in range(100):\n",
    "        dw[i - 1] = 0\n",
    "        dw[i] = mul\n",
    "        dL_val[i] = (L(w + dw, X, y) - L_val) / mul\n",
    "    print(mul, np.linalg.norm(dL_val - dL(w, X, y)))\n",
    "#     print(mul, np.linalg.norm(dL_val), np.linalg.norm(dL(w, X, y)))\n",
    "\n",
    "    \n",
    "w = np.random.rand(X_train.shape[1]) / 1000\n",
    "for mul in [1e-8, 1e-7, 1e-6, 1e-5]:\n",
    "    test_dL(w, X_train, y_train, mul)"
   ]
  },
  {
   "cell_type": "code",
   "execution_count": null,
   "metadata": {},
   "outputs": [],
   "source": [
    "w = np.zeros(X_train.shape[1]) / 1000\n",
    "# w = (1 / X_train[0].toarray() + 1e-30)\n",
    "MAX_ITERS = 1000\n",
    "accs_train = np.zeros(MAX_ITERS)\n",
    "accs_test = np.zeros(MAX_ITERS)\n",
    "lamda = 0.001\n",
    "for i in range(MAX_ITERS):\n",
    "    w_next = w - lamda * dL(w, X_train, y_train)\n",
    "#     import pdb; pdb.set_trace()\n",
    "    accs_train[i] = accuracy(w_next, X_train, y_train)\n",
    "    accs_test[i] = accuracy(w_next, X_test, y_test)\n",
    "    #print(np.linalg.norm(w_next - w), L(w, X_train, y_train), L(w, X_test, y_test))#, accuracy(w_next, X_train, y_train))\n",
    "    w = w_next\n",
    "    assert not np.any(w == np.nan)"
   ]
  },
  {
   "cell_type": "code",
   "execution_count": null,
   "metadata": {},
   "outputs": [],
   "source": [
    "import matplotlib.pyplot as plt"
   ]
  },
  {
   "cell_type": "code",
   "execution_count": null,
   "metadata": {},
   "outputs": [],
   "source": [
    "plt.plot(range(MAX_ITERS), accs_train, label='train')\n",
    "plt.plot(range(MAX_ITERS), accs_test, label='test')\n",
    "plt.legend()"
   ]
  },
  {
   "cell_type": "code",
   "execution_count": null,
   "metadata": {},
   "outputs": [],
   "source": [
    "def model(w, X):\n",
    "    return np.where(sigma(w, X) > 0.5, 1, -1)"
   ]
  },
  {
   "cell_type": "code",
   "execution_count": null,
   "metadata": {},
   "outputs": [],
   "source": [
    "def accuracy(w, X, y):\n",
    "    return sum(model(w, X) == y) / y.shape[0]"
   ]
  },
  {
   "cell_type": "code",
   "execution_count": null,
   "metadata": {},
   "outputs": [],
   "source": [
    "accuracy(w, X_train, y_train), accuracy(w, X_test, y_test)"
   ]
  },
  {
   "cell_type": "code",
   "execution_count": null,
   "metadata": {},
   "outputs": [],
   "source": [
    "L(w, X_train[0], y_train[0])"
   ]
  },
  {
   "cell_type": "code",
   "execution_count": null,
   "metadata": {},
   "outputs": [],
   "source": [
    "1 / X_train[0].toarray().ravel()"
   ]
  },
  {
   "cell_type": "code",
   "execution_count": null,
   "metadata": {},
   "outputs": [],
   "source": [
    "X_train.toarray()"
   ]
  },
  {
   "cell_type": "code",
   "execution_count": null,
   "metadata": {},
   "outputs": [],
   "source": [
    "(-1 / self.m\n",
    "                * np.sum((np.exp(-self.b * self.matvec_Ax(x)) / (1 + np.exp(-self.b * self.matvec_Ax(x)))\n",
    "                         * self.matvec_ATx(1) * self.b).T,\n",
    "                         axis=0)\n",
    "                + self.regcoef * x)"
   ]
  }
 ],
 "metadata": {
  "kernelspec": {
   "display_name": "Python 3",
   "language": "python",
   "name": "python3"
  },
  "language_info": {
   "codemirror_mode": {
    "name": "ipython",
    "version": 3
   },
   "file_extension": ".py",
   "mimetype": "text/x-python",
   "name": "python",
   "nbconvert_exporter": "python",
   "pygments_lexer": "ipython3",
   "version": "3.8.3"
  }
 },
 "nbformat": 4,
 "nbformat_minor": 2
}
